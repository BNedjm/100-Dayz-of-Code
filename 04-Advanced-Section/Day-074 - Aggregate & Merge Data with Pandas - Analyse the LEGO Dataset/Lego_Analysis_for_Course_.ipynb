{
  "cells": [
    {
      "cell_type": "markdown",
      "metadata": {
        "colab_type": "text",
        "dc": {
          "key": "1d0b086e6c"
        },
        "id": "s9JLDE8NIquP",
        "run_control": {
          "frozen": true
        },
        "tags": [
          "context"
        ]
      },
      "source": [
        "# Introduction\n",
        "\n",
        "Today we'll dive deep into a dataset all about LEGO. From the dataset we can ask whole bunch of interesting questions about the history of the LEGO company, their product offering, and which LEGO set ultimately rules them all:\n",
        "\n",
        "<ul type=\"square\">\n",
        "<li>What is the most enormous LEGO set ever created and how many parts did it have?</li>\n",
        "\n",
        "<li>How did the LEGO company start out? In which year were the first LEGO sets released and how many sets did the company sell when it first launched?</li>\n",
        "\n",
        "<li>Which LEGO theme has the most sets? Is it one of LEGO's own themes like Ninjago or a theme they licensed liked Harry Potter or Marvel Superheroes?</li>\n",
        "\n",
        "<li>When did the LEGO company really expand its product offering? Can we spot a change in the company strategy based on how many themes and sets did it released year-on-year?</li>\n",
        "\n",
        "<li>Did LEGO sets grow in size and complexity over time? Do older LEGO \n",
        "sets tend to have more or fewer parts than newer sets?</li>\n",
        "</ul>\n",
        "\n",
        "**Data Source**\n",
        "\n",
        "[Rebrickable](https://rebrickable.com/downloads/) has compiled data on all the LEGO pieces in existence. I recommend you use download the .csv files provided in this lesson. "
      ]
    },
    {
      "cell_type": "markdown",
      "metadata": {},
      "source": [
        "<!-- <img src=\"https://i.imgur.com/49FNOHj.jpg\"> -->\n",
        "<img src=\"assets/bricks.jpg\">"
      ]
    },
    {
      "cell_type": "markdown",
      "metadata": {
        "colab_type": "text",
        "id": "V0u2lGJuIquQ"
      },
      "source": [
        "# Import Statements"
      ]
    },
    {
      "cell_type": "code",
      "execution_count": 15,
      "metadata": {
        "colab": {},
        "colab_type": "code",
        "id": "z5Wk7rs-IquQ"
      },
      "outputs": [],
      "source": [
        "import pandas as pd\n",
        "import matplotlib.pyplot as plt"
      ]
    },
    {
      "cell_type": "markdown",
      "metadata": {
        "colab_type": "text",
        "id": "R5NQpJ_KIquT"
      },
      "source": [
        "# Data Exploration"
      ]
    },
    {
      "cell_type": "markdown",
      "metadata": {
        "colab_type": "text",
        "dc": {
          "key": "044b2cef41"
        },
        "id": "ffaG-UFYIquT",
        "run_control": {
          "frozen": true
        },
        "tags": [
          "context"
        ]
      },
      "source": [
        "**Challenge**: How many different colours does the LEGO company produce? Read the colors.csv file in the data folder and find the total number of unique colours. Try using the [.nunique() method](https://pandas.pydata.org/pandas-docs/stable/reference/api/pandas.DataFrame.nunique.html?highlight=nunique#pandas.DataFrame.nunique) to accomplish this."
      ]
    },
    {
      "cell_type": "code",
      "execution_count": 16,
      "metadata": {
        "colab": {},
        "colab_type": "code",
        "id": "yd4G9pK7IquU"
      },
      "outputs": [],
      "source": [
        "colors_df = pd.read_csv('data/colors.csv', header=0)"
      ]
    },
    {
      "cell_type": "code",
      "execution_count": 17,
      "metadata": {
        "colab": {},
        "colab_type": "code",
        "dc": {
          "key": "044b2cef41"
        },
        "id": "QmbAXax7IquW",
        "tags": [
          "sample_code"
        ]
      },
      "outputs": [
        {
          "data": {
            "text/html": [
              "<div>\n",
              "<style scoped>\n",
              "    .dataframe tbody tr th:only-of-type {\n",
              "        vertical-align: middle;\n",
              "    }\n",
              "\n",
              "    .dataframe tbody tr th {\n",
              "        vertical-align: top;\n",
              "    }\n",
              "\n",
              "    .dataframe thead th {\n",
              "        text-align: right;\n",
              "    }\n",
              "</style>\n",
              "<table border=\"1\" class=\"dataframe\">\n",
              "  <thead>\n",
              "    <tr style=\"text-align: right;\">\n",
              "      <th></th>\n",
              "      <th>id</th>\n",
              "      <th>name</th>\n",
              "      <th>rgb</th>\n",
              "      <th>is_trans</th>\n",
              "    </tr>\n",
              "  </thead>\n",
              "  <tbody>\n",
              "    <tr>\n",
              "      <th>0</th>\n",
              "      <td>-1</td>\n",
              "      <td>Unknown</td>\n",
              "      <td>0033B2</td>\n",
              "      <td>f</td>\n",
              "    </tr>\n",
              "    <tr>\n",
              "      <th>1</th>\n",
              "      <td>0</td>\n",
              "      <td>Black</td>\n",
              "      <td>05131D</td>\n",
              "      <td>f</td>\n",
              "    </tr>\n",
              "    <tr>\n",
              "      <th>2</th>\n",
              "      <td>1</td>\n",
              "      <td>Blue</td>\n",
              "      <td>0055BF</td>\n",
              "      <td>f</td>\n",
              "    </tr>\n",
              "    <tr>\n",
              "      <th>3</th>\n",
              "      <td>2</td>\n",
              "      <td>Green</td>\n",
              "      <td>237841</td>\n",
              "      <td>f</td>\n",
              "    </tr>\n",
              "    <tr>\n",
              "      <th>4</th>\n",
              "      <td>3</td>\n",
              "      <td>Dark Turquoise</td>\n",
              "      <td>008F9B</td>\n",
              "      <td>f</td>\n",
              "    </tr>\n",
              "  </tbody>\n",
              "</table>\n",
              "</div>"
            ],
            "text/plain": [
              "   id            name     rgb is_trans\n",
              "0  -1         Unknown  0033B2        f\n",
              "1   0           Black  05131D        f\n",
              "2   1            Blue  0055BF        f\n",
              "3   2           Green  237841        f\n",
              "4   3  Dark Turquoise  008F9B        f"
            ]
          },
          "execution_count": 17,
          "metadata": {},
          "output_type": "execute_result"
        }
      ],
      "source": [
        "colors_df.head()"
      ]
    },
    {
      "cell_type": "code",
      "execution_count": 18,
      "metadata": {},
      "outputs": [
        {
          "data": {
            "text/html": [
              "<div>\n",
              "<style scoped>\n",
              "    .dataframe tbody tr th:only-of-type {\n",
              "        vertical-align: middle;\n",
              "    }\n",
              "\n",
              "    .dataframe tbody tr th {\n",
              "        vertical-align: top;\n",
              "    }\n",
              "\n",
              "    .dataframe thead th {\n",
              "        text-align: right;\n",
              "    }\n",
              "</style>\n",
              "<table border=\"1\" class=\"dataframe\">\n",
              "  <thead>\n",
              "    <tr style=\"text-align: right;\">\n",
              "      <th></th>\n",
              "      <th>id</th>\n",
              "      <th>name</th>\n",
              "      <th>rgb</th>\n",
              "      <th>is_trans</th>\n",
              "    </tr>\n",
              "  </thead>\n",
              "  <tbody>\n",
              "    <tr>\n",
              "      <th>130</th>\n",
              "      <td>1004</td>\n",
              "      <td>Trans Flame Yellowish Orange</td>\n",
              "      <td>FCB76D</td>\n",
              "      <td>t</td>\n",
              "    </tr>\n",
              "    <tr>\n",
              "      <th>131</th>\n",
              "      <td>1005</td>\n",
              "      <td>Trans Fire Yellow</td>\n",
              "      <td>FBE890</td>\n",
              "      <td>t</td>\n",
              "    </tr>\n",
              "    <tr>\n",
              "      <th>132</th>\n",
              "      <td>1006</td>\n",
              "      <td>Trans Light Royal Blue</td>\n",
              "      <td>B4D4F7</td>\n",
              "      <td>t</td>\n",
              "    </tr>\n",
              "    <tr>\n",
              "      <th>133</th>\n",
              "      <td>1007</td>\n",
              "      <td>Reddish Lilac</td>\n",
              "      <td>8E5597</td>\n",
              "      <td>f</td>\n",
              "    </tr>\n",
              "    <tr>\n",
              "      <th>134</th>\n",
              "      <td>9999</td>\n",
              "      <td>[No Color]</td>\n",
              "      <td>05131D</td>\n",
              "      <td>f</td>\n",
              "    </tr>\n",
              "  </tbody>\n",
              "</table>\n",
              "</div>"
            ],
            "text/plain": [
              "       id                          name     rgb is_trans\n",
              "130  1004  Trans Flame Yellowish Orange  FCB76D        t\n",
              "131  1005             Trans Fire Yellow  FBE890        t\n",
              "132  1006        Trans Light Royal Blue  B4D4F7        t\n",
              "133  1007                 Reddish Lilac  8E5597        f\n",
              "134  9999                    [No Color]  05131D        f"
            ]
          },
          "execution_count": 18,
          "metadata": {},
          "output_type": "execute_result"
        }
      ],
      "source": [
        "colors_df.tail()"
      ]
    },
    {
      "cell_type": "code",
      "execution_count": 19,
      "metadata": {
        "colab": {},
        "colab_type": "code",
        "dc": {
          "key": "15c1e2ce38"
        },
        "id": "SMc2sKiIIquY",
        "tags": [
          "sample_code"
        ]
      },
      "outputs": [
        {
          "data": {
            "text/plain": [
              "135"
            ]
          },
          "execution_count": 19,
          "metadata": {},
          "output_type": "execute_result"
        }
      ],
      "source": [
        "colors_df[\"name\"].nunique()"
      ]
    },
    {
      "cell_type": "markdown",
      "metadata": {
        "colab_type": "text",
        "dc": {
          "key": "a5723ae5c2"
        },
        "id": "PItRbqgcIqua",
        "run_control": {
          "frozen": true
        },
        "tags": [
          "context"
        ]
      },
      "source": [
        "**Challenge**: Find the number of transparent colours where <code>is_trans == 't'</code> versus the number of opaque colours where <code>is_trans == 'f'</code>. See if you can accomplish this in two different ways."
      ]
    },
    {
      "cell_type": "code",
      "execution_count": 20,
      "metadata": {
        "colab": {},
        "colab_type": "code",
        "id": "1UZrfq82Iqub"
      },
      "outputs": [
        {
          "data": {
            "text/plain": [
              "is_trans\n",
              "f    107\n",
              "t     28\n",
              "Name: name, dtype: int64"
            ]
          },
          "execution_count": 20,
          "metadata": {},
          "output_type": "execute_result"
        }
      ],
      "source": [
        "colors_df.groupby(\"is_trans\")[\"name\"].count()"
      ]
    },
    {
      "cell_type": "code",
      "execution_count": 21,
      "metadata": {
        "colab": {},
        "colab_type": "code",
        "id": "KQFf-leCIqud"
      },
      "outputs": [
        {
          "data": {
            "text/plain": [
              "is_trans\n",
              "f    107\n",
              "t     28\n",
              "Name: count, dtype: int64"
            ]
          },
          "execution_count": 21,
          "metadata": {},
          "output_type": "execute_result"
        }
      ],
      "source": [
        "colors_df.is_trans.value_counts()"
      ]
    },
    {
      "cell_type": "markdown",
      "metadata": {
        "colab_type": "text",
        "id": "TMqdhUYcusfy"
      },
      "source": [
        "### Understanding LEGO Themes vs. LEGO Sets"
      ]
    },
    {
      "cell_type": "markdown",
      "metadata": {
        "colab_type": "text",
        "id": "y0kxCh63uwOv"
      },
      "source": [
        "Walk into a LEGO store and you will see their products organised by theme. Their themes include Star Wars, Batman, Harry Potter and many more.\n",
        "\n",
        "<img src=\"https://i.imgur.com/aKcwkSx.png\">"
      ]
    },
    {
      "cell_type": "markdown",
      "metadata": {
        "colab_type": "text",
        "dc": {
          "key": "c9d0e58653"
        },
        "id": "u_xkZUF8Iqug",
        "run_control": {
          "frozen": true
        },
        "tags": [
          "context"
        ]
      },
      "source": [
        "A lego set is a particular box of LEGO or product. Therefore, a single theme typically has many different sets.\n",
        "\n",
        "<img src=\"https://i.imgur.com/whB1olq.png\">"
      ]
    },
    {
      "cell_type": "markdown",
      "metadata": {
        "colab_type": "text",
        "id": "jJTAROe5unkx"
      },
      "source": [
        "The <code>sets.csv</code> data contains a list of sets over the years and the number of parts that each of these sets contained.\n",
        "\n",
        "**Challenge**: Read the sets.csv data and take a look at the first and last couple of rows. "
      ]
    },
    {
      "cell_type": "code",
      "execution_count": 23,
      "metadata": {
        "colab": {},
        "colab_type": "code",
        "id": "vGMOv-NRIquh"
      },
      "outputs": [],
      "source": [
        "sets_df = pd.read_csv('data/sets.csv', header=0)"
      ]
    },
    {
      "cell_type": "code",
      "execution_count": 24,
      "metadata": {
        "colab": {},
        "colab_type": "code",
        "id": "T3lLFvyZIqui"
      },
      "outputs": [
        {
          "data": {
            "text/html": [
              "<div>\n",
              "<style scoped>\n",
              "    .dataframe tbody tr th:only-of-type {\n",
              "        vertical-align: middle;\n",
              "    }\n",
              "\n",
              "    .dataframe tbody tr th {\n",
              "        vertical-align: top;\n",
              "    }\n",
              "\n",
              "    .dataframe thead th {\n",
              "        text-align: right;\n",
              "    }\n",
              "</style>\n",
              "<table border=\"1\" class=\"dataframe\">\n",
              "  <thead>\n",
              "    <tr style=\"text-align: right;\">\n",
              "      <th></th>\n",
              "      <th>set_num</th>\n",
              "      <th>name</th>\n",
              "      <th>year</th>\n",
              "      <th>theme_id</th>\n",
              "      <th>num_parts</th>\n",
              "    </tr>\n",
              "  </thead>\n",
              "  <tbody>\n",
              "    <tr>\n",
              "      <th>0</th>\n",
              "      <td>001-1</td>\n",
              "      <td>Gears</td>\n",
              "      <td>1965</td>\n",
              "      <td>1</td>\n",
              "      <td>43</td>\n",
              "    </tr>\n",
              "    <tr>\n",
              "      <th>1</th>\n",
              "      <td>0011-2</td>\n",
              "      <td>Town Mini-Figures</td>\n",
              "      <td>1978</td>\n",
              "      <td>84</td>\n",
              "      <td>12</td>\n",
              "    </tr>\n",
              "    <tr>\n",
              "      <th>2</th>\n",
              "      <td>0011-3</td>\n",
              "      <td>Castle 2 for 1 Bonus Offer</td>\n",
              "      <td>1987</td>\n",
              "      <td>199</td>\n",
              "      <td>0</td>\n",
              "    </tr>\n",
              "    <tr>\n",
              "      <th>3</th>\n",
              "      <td>0012-1</td>\n",
              "      <td>Space Mini-Figures</td>\n",
              "      <td>1979</td>\n",
              "      <td>143</td>\n",
              "      <td>12</td>\n",
              "    </tr>\n",
              "    <tr>\n",
              "      <th>4</th>\n",
              "      <td>0013-1</td>\n",
              "      <td>Space Mini-Figures</td>\n",
              "      <td>1979</td>\n",
              "      <td>143</td>\n",
              "      <td>12</td>\n",
              "    </tr>\n",
              "  </tbody>\n",
              "</table>\n",
              "</div>"
            ],
            "text/plain": [
              "  set_num                        name  year  theme_id  num_parts\n",
              "0   001-1                       Gears  1965         1         43\n",
              "1  0011-2           Town Mini-Figures  1978        84         12\n",
              "2  0011-3  Castle 2 for 1 Bonus Offer  1987       199          0\n",
              "3  0012-1          Space Mini-Figures  1979       143         12\n",
              "4  0013-1          Space Mini-Figures  1979       143         12"
            ]
          },
          "execution_count": 24,
          "metadata": {},
          "output_type": "execute_result"
        }
      ],
      "source": [
        "sets_df.head()"
      ]
    },
    {
      "cell_type": "code",
      "execution_count": 25,
      "metadata": {
        "colab": {},
        "colab_type": "code",
        "id": "XprDBmzwIquk"
      },
      "outputs": [
        {
          "data": {
            "text/html": [
              "<div>\n",
              "<style scoped>\n",
              "    .dataframe tbody tr th:only-of-type {\n",
              "        vertical-align: middle;\n",
              "    }\n",
              "\n",
              "    .dataframe tbody tr th {\n",
              "        vertical-align: top;\n",
              "    }\n",
              "\n",
              "    .dataframe thead th {\n",
              "        text-align: right;\n",
              "    }\n",
              "</style>\n",
              "<table border=\"1\" class=\"dataframe\">\n",
              "  <thead>\n",
              "    <tr style=\"text-align: right;\">\n",
              "      <th></th>\n",
              "      <th>set_num</th>\n",
              "      <th>name</th>\n",
              "      <th>year</th>\n",
              "      <th>theme_id</th>\n",
              "      <th>num_parts</th>\n",
              "    </tr>\n",
              "  </thead>\n",
              "  <tbody>\n",
              "    <tr>\n",
              "      <th>15705</th>\n",
              "      <td>wwgp1-1</td>\n",
              "      <td>Wild West Limited Edition Gift Pack</td>\n",
              "      <td>1996</td>\n",
              "      <td>476</td>\n",
              "      <td>0</td>\n",
              "    </tr>\n",
              "    <tr>\n",
              "      <th>15706</th>\n",
              "      <td>XMASTREE-1</td>\n",
              "      <td>Christmas Tree</td>\n",
              "      <td>2019</td>\n",
              "      <td>410</td>\n",
              "      <td>26</td>\n",
              "    </tr>\n",
              "    <tr>\n",
              "      <th>15707</th>\n",
              "      <td>XWING-1</td>\n",
              "      <td>Mini X-Wing Fighter</td>\n",
              "      <td>2019</td>\n",
              "      <td>158</td>\n",
              "      <td>60</td>\n",
              "    </tr>\n",
              "    <tr>\n",
              "      <th>15708</th>\n",
              "      <td>XWING-2</td>\n",
              "      <td>X-Wing Trench Run</td>\n",
              "      <td>2019</td>\n",
              "      <td>158</td>\n",
              "      <td>52</td>\n",
              "    </tr>\n",
              "    <tr>\n",
              "      <th>15709</th>\n",
              "      <td>YODACHRON-1</td>\n",
              "      <td>Yoda Chronicles Promotional Set</td>\n",
              "      <td>2013</td>\n",
              "      <td>158</td>\n",
              "      <td>413</td>\n",
              "    </tr>\n",
              "  </tbody>\n",
              "</table>\n",
              "</div>"
            ],
            "text/plain": [
              "           set_num                                 name  year  theme_id  \\\n",
              "15705      wwgp1-1  Wild West Limited Edition Gift Pack  1996       476   \n",
              "15706   XMASTREE-1                       Christmas Tree  2019       410   \n",
              "15707      XWING-1                  Mini X-Wing Fighter  2019       158   \n",
              "15708      XWING-2                    X-Wing Trench Run  2019       158   \n",
              "15709  YODACHRON-1      Yoda Chronicles Promotional Set  2013       158   \n",
              "\n",
              "       num_parts  \n",
              "15705          0  \n",
              "15706         26  \n",
              "15707         60  \n",
              "15708         52  \n",
              "15709        413  "
            ]
          },
          "execution_count": 25,
          "metadata": {},
          "output_type": "execute_result"
        }
      ],
      "source": [
        "sets_df.tail()"
      ]
    },
    {
      "cell_type": "markdown",
      "metadata": {
        "colab_type": "text",
        "id": "ez-UXSMUIqum"
      },
      "source": [
        "**Challenge**: In which year were the first LEGO sets released and what were these sets called?"
      ]
    },
    {
      "cell_type": "code",
      "execution_count": 31,
      "metadata": {
        "colab": {},
        "colab_type": "code",
        "id": "s2aL6qrGIqum"
      },
      "outputs": [
        {
          "data": {
            "text/plain": [
              "1949"
            ]
          },
          "execution_count": 31,
          "metadata": {},
          "output_type": "execute_result"
        }
      ],
      "source": [
        "sets_df[\"year\"].min()"
      ]
    },
    {
      "cell_type": "markdown",
      "metadata": {
        "colab_type": "text",
        "id": "JJoK3M8TBAVU"
      },
      "source": [
        "**Challenge**: How many different sets did LEGO sell in their first year? How many types of LEGO products were on offer in the year the company started?"
      ]
    },
    {
      "cell_type": "code",
      "execution_count": 37,
      "metadata": {
        "colab": {},
        "colab_type": "code",
        "id": "h-Tf1w7IBBg9"
      },
      "outputs": [
        {
          "data": {
            "text/html": [
              "<div>\n",
              "<style scoped>\n",
              "    .dataframe tbody tr th:only-of-type {\n",
              "        vertical-align: middle;\n",
              "    }\n",
              "\n",
              "    .dataframe tbody tr th {\n",
              "        vertical-align: top;\n",
              "    }\n",
              "\n",
              "    .dataframe thead th {\n",
              "        text-align: right;\n",
              "    }\n",
              "</style>\n",
              "<table border=\"1\" class=\"dataframe\">\n",
              "  <thead>\n",
              "    <tr style=\"text-align: right;\">\n",
              "      <th></th>\n",
              "      <th>set_num</th>\n",
              "      <th>name</th>\n",
              "      <th>year</th>\n",
              "      <th>theme_id</th>\n",
              "      <th>num_parts</th>\n",
              "    </tr>\n",
              "  </thead>\n",
              "  <tbody>\n",
              "    <tr>\n",
              "      <th>9521</th>\n",
              "      <td>700.1-1</td>\n",
              "      <td>Extra-Large Gift Set (ABB)</td>\n",
              "      <td>1949</td>\n",
              "      <td>365</td>\n",
              "      <td>142</td>\n",
              "    </tr>\n",
              "    <tr>\n",
              "      <th>9534</th>\n",
              "      <td>700.2-1</td>\n",
              "      <td>Large Gift Set (ABB)</td>\n",
              "      <td>1949</td>\n",
              "      <td>365</td>\n",
              "      <td>178</td>\n",
              "    </tr>\n",
              "    <tr>\n",
              "      <th>9539</th>\n",
              "      <td>700.3-1</td>\n",
              "      <td>Medium Gift Set (ABB)</td>\n",
              "      <td>1949</td>\n",
              "      <td>365</td>\n",
              "      <td>142</td>\n",
              "    </tr>\n",
              "    <tr>\n",
              "      <th>9544</th>\n",
              "      <td>700.A-1</td>\n",
              "      <td>Small Brick Set (ABB)</td>\n",
              "      <td>1949</td>\n",
              "      <td>371</td>\n",
              "      <td>24</td>\n",
              "    </tr>\n",
              "    <tr>\n",
              "      <th>9545</th>\n",
              "      <td>700.B-1</td>\n",
              "      <td>Small Doors and Windows Set (ABB)</td>\n",
              "      <td>1949</td>\n",
              "      <td>371</td>\n",
              "      <td>12</td>\n",
              "    </tr>\n",
              "  </tbody>\n",
              "</table>\n",
              "</div>"
            ],
            "text/plain": [
              "      set_num                               name  year  theme_id  num_parts\n",
              "9521  700.1-1         Extra-Large Gift Set (ABB)  1949       365        142\n",
              "9534  700.2-1               Large Gift Set (ABB)  1949       365        178\n",
              "9539  700.3-1              Medium Gift Set (ABB)  1949       365        142\n",
              "9544  700.A-1              Small Brick Set (ABB)  1949       371         24\n",
              "9545  700.B-1  Small Doors and Windows Set (ABB)  1949       371         12"
            ]
          },
          "execution_count": 37,
          "metadata": {},
          "output_type": "execute_result"
        }
      ],
      "source": [
        "# sets_df[\"year\"].value_counts()[sets_df[\"year\"].min()]\n",
        "sets_df[sets_df[\"year\"] == 1949]"
      ]
    },
    {
      "cell_type": "markdown",
      "metadata": {
        "colab_type": "text",
        "id": "RJMMYQYqIquo"
      },
      "source": [
        "**Challenge**: Find the top 5 LEGO sets with the most number of parts. "
      ]
    },
    {
      "cell_type": "code",
      "execution_count": 36,
      "metadata": {
        "colab": {},
        "colab_type": "code",
        "id": "toJvjRuQIqup"
      },
      "outputs": [
        {
          "data": {
            "text/html": [
              "<div>\n",
              "<style scoped>\n",
              "    .dataframe tbody tr th:only-of-type {\n",
              "        vertical-align: middle;\n",
              "    }\n",
              "\n",
              "    .dataframe tbody tr th {\n",
              "        vertical-align: top;\n",
              "    }\n",
              "\n",
              "    .dataframe thead th {\n",
              "        text-align: right;\n",
              "    }\n",
              "</style>\n",
              "<table border=\"1\" class=\"dataframe\">\n",
              "  <thead>\n",
              "    <tr style=\"text-align: right;\">\n",
              "      <th></th>\n",
              "      <th>set_num</th>\n",
              "      <th>name</th>\n",
              "      <th>year</th>\n",
              "      <th>theme_id</th>\n",
              "      <th>num_parts</th>\n",
              "    </tr>\n",
              "  </thead>\n",
              "  <tbody>\n",
              "    <tr>\n",
              "      <th>15004</th>\n",
              "      <td>BIGBOX-1</td>\n",
              "      <td>The Ultimate Battle for Chima</td>\n",
              "      <td>2015</td>\n",
              "      <td>571</td>\n",
              "      <td>9987</td>\n",
              "    </tr>\n",
              "    <tr>\n",
              "      <th>11183</th>\n",
              "      <td>75192-1</td>\n",
              "      <td>UCS Millennium Falcon</td>\n",
              "      <td>2017</td>\n",
              "      <td>171</td>\n",
              "      <td>7541</td>\n",
              "    </tr>\n",
              "    <tr>\n",
              "      <th>10551</th>\n",
              "      <td>71043-1</td>\n",
              "      <td>Hogwarts Castle</td>\n",
              "      <td>2018</td>\n",
              "      <td>246</td>\n",
              "      <td>6020</td>\n",
              "    </tr>\n",
              "    <tr>\n",
              "      <th>295</th>\n",
              "      <td>10256-1</td>\n",
              "      <td>Taj Mahal</td>\n",
              "      <td>2017</td>\n",
              "      <td>673</td>\n",
              "      <td>5923</td>\n",
              "    </tr>\n",
              "    <tr>\n",
              "      <th>221</th>\n",
              "      <td>10189-1</td>\n",
              "      <td>Taj Mahal</td>\n",
              "      <td>2008</td>\n",
              "      <td>673</td>\n",
              "      <td>5922</td>\n",
              "    </tr>\n",
              "  </tbody>\n",
              "</table>\n",
              "</div>"
            ],
            "text/plain": [
              "        set_num                           name  year  theme_id  num_parts\n",
              "15004  BIGBOX-1  The Ultimate Battle for Chima  2015       571       9987\n",
              "11183   75192-1          UCS Millennium Falcon  2017       171       7541\n",
              "10551   71043-1                Hogwarts Castle  2018       246       6020\n",
              "295     10256-1                      Taj Mahal  2017       673       5923\n",
              "221     10189-1                      Taj Mahal  2008       673       5922"
            ]
          },
          "execution_count": 36,
          "metadata": {},
          "output_type": "execute_result"
        }
      ],
      "source": [
        "sets_df.sort_values(by=[\"num_parts\"], ascending=False).head()"
      ]
    },
    {
      "cell_type": "markdown",
      "metadata": {
        "colab_type": "text",
        "id": "uSyhOzAHIqur"
      },
      "source": [
        "**Challenge**: Use <code>.groupby()</code> and <code>.count()</code> to show the number of LEGO sets released year-on-year. How do the number of sets released in 1955 compare to the number of sets released in 2019? "
      ]
    },
    {
      "cell_type": "code",
      "execution_count": 59,
      "metadata": {
        "colab": {},
        "colab_type": "code",
        "id": "qjdrktZAIqus",
        "scrolled": true
      },
      "outputs": [],
      "source": [
        "sets_by_year = sets_df.groupby(\"year\").count()"
      ]
    },
    {
      "cell_type": "code",
      "execution_count": 60,
      "metadata": {
        "colab": {},
        "colab_type": "code",
        "id": "tFInsHOkIqut"
      },
      "outputs": [
        {
          "data": {
            "text/plain": [
              "year\n",
              "1949     5\n",
              "1950     6\n",
              "1953     4\n",
              "1954    14\n",
              "1955    28\n",
              "Name: name, dtype: int64"
            ]
          },
          "execution_count": 60,
          "metadata": {},
          "output_type": "execute_result"
        }
      ],
      "source": [
        "sets_by_year[\"name\"].head()"
      ]
    },
    {
      "cell_type": "markdown",
      "metadata": {
        "colab_type": "text",
        "id": "xJrmIOULIquv"
      },
      "source": [
        "**Challenge**: Show the number of LEGO releases on a line chart using Matplotlib. <br>\n",
        "<br>\n",
        "Note that the .csv file is from late 2020, so to plot the full calendar years, you will have to exclude some data from your chart. Can you use the slicing techniques covered in Day 21 to avoid plotting the last two years? The same syntax will work on Pandas DataFrames. "
      ]
    },
    {
      "cell_type": "code",
      "execution_count": 62,
      "metadata": {
        "colab": {},
        "colab_type": "code",
        "id": "Nckj4lSGIquw"
      },
      "outputs": [
        {
          "data": {
            "text/plain": [
              "[<matplotlib.lines.Line2D at 0x1f8da2b3910>]"
            ]
          },
          "execution_count": 62,
          "metadata": {},
          "output_type": "execute_result"
        },
        {
          "data": {
            "image/png": "[encoded data removed]",
            "text/plain": [
              "<Figure size 640x480 with 1 Axes>"
            ]
          },
          "metadata": {},
          "output_type": "display_data"
        }
      ],
      "source": [
        "plt.xlabel('Date', fontsize=14)\n",
        "plt.ylabel('Number of Releases', fontsize=14)\n",
        "plt.ylim(0, 1000)\n",
        "plt.plot(sets_by_year[\"name\"])"
      ]
    },
    {
      "cell_type": "code",
      "execution_count": 63,
      "metadata": {
        "colab": {},
        "colab_type": "code",
        "id": "_ZqAN-5MIquz"
      },
      "outputs": [
        {
          "data": {
            "text/plain": [
              "[<matplotlib.lines.Line2D at 0x1f8da485960>]"
            ]
          },
          "execution_count": 63,
          "metadata": {},
          "output_type": "execute_result"
        },
        {
          "data": {
            "image/png": "[encoded data removed]",
            "text/plain": [
              "<Figure size 640x480 with 1 Axes>"
            ]
          },
          "metadata": {},
          "output_type": "display_data"
        }
      ],
      "source": [
        "plt.xlabel('Date', fontsize=14)\n",
        "plt.ylabel('Number of Releases', fontsize=14)\n",
        "plt.ylim(0, 1000)\n",
        "plt.plot(sets_by_year[\"name\"][:-2])"
      ]
    },
    {
      "cell_type": "markdown",
      "metadata": {
        "colab_type": "text",
        "id": "xrDeNYYXIqu1"
      },
      "source": [
        "### Aggregate Data with the Python .agg() Function\n",
        "\n",
        "Let's work out the number of different themes shipped by year. This means we have to count the number of unique theme_ids per calendar year."
      ]
    },
    {
      "cell_type": "code",
      "execution_count": 48,
      "metadata": {
        "colab": {},
        "colab_type": "code",
        "dc": {
          "key": "266a3f390c"
        },
        "id": "qx8pTau4Iqu2",
        "tags": [
          "sample_code"
        ]
      },
      "outputs": [],
      "source": [
        "themes_by_year = sets_df.groupby(\"year\").agg({\"theme_id\": pd.Series.nunique})"
      ]
    },
    {
      "cell_type": "code",
      "execution_count": 49,
      "metadata": {
        "colab": {},
        "colab_type": "code",
        "id": "BqF1o997Iqu3"
      },
      "outputs": [
        {
          "data": {
            "text/html": [
              "<div>\n",
              "<style scoped>\n",
              "    .dataframe tbody tr th:only-of-type {\n",
              "        vertical-align: middle;\n",
              "    }\n",
              "\n",
              "    .dataframe tbody tr th {\n",
              "        vertical-align: top;\n",
              "    }\n",
              "\n",
              "    .dataframe thead th {\n",
              "        text-align: right;\n",
              "    }\n",
              "</style>\n",
              "<table border=\"1\" class=\"dataframe\">\n",
              "  <thead>\n",
              "    <tr style=\"text-align: right;\">\n",
              "      <th></th>\n",
              "      <th>nr_themes</th>\n",
              "    </tr>\n",
              "    <tr>\n",
              "      <th>year</th>\n",
              "      <th></th>\n",
              "    </tr>\n",
              "  </thead>\n",
              "  <tbody>\n",
              "    <tr>\n",
              "      <th>1949</th>\n",
              "      <td>2</td>\n",
              "    </tr>\n",
              "    <tr>\n",
              "      <th>1950</th>\n",
              "      <td>1</td>\n",
              "    </tr>\n",
              "    <tr>\n",
              "      <th>1953</th>\n",
              "      <td>2</td>\n",
              "    </tr>\n",
              "    <tr>\n",
              "      <th>1954</th>\n",
              "      <td>2</td>\n",
              "    </tr>\n",
              "    <tr>\n",
              "      <th>1955</th>\n",
              "      <td>4</td>\n",
              "    </tr>\n",
              "  </tbody>\n",
              "</table>\n",
              "</div>"
            ],
            "text/plain": [
              "      nr_themes\n",
              "year           \n",
              "1949          2\n",
              "1950          1\n",
              "1953          2\n",
              "1954          2\n",
              "1955          4"
            ]
          },
          "execution_count": 49,
          "metadata": {},
          "output_type": "execute_result"
        }
      ],
      "source": [
        "themes_by_year.rename(columns = {\"theme_id\": \"nr_themes\"}, inplace= True)\n",
        "themes_by_year.head()"
      ]
    },
    {
      "cell_type": "code",
      "execution_count": 50,
      "metadata": {},
      "outputs": [
        {
          "data": {
            "text/html": [
              "<div>\n",
              "<style scoped>\n",
              "    .dataframe tbody tr th:only-of-type {\n",
              "        vertical-align: middle;\n",
              "    }\n",
              "\n",
              "    .dataframe tbody tr th {\n",
              "        vertical-align: top;\n",
              "    }\n",
              "\n",
              "    .dataframe thead th {\n",
              "        text-align: right;\n",
              "    }\n",
              "</style>\n",
              "<table border=\"1\" class=\"dataframe\">\n",
              "  <thead>\n",
              "    <tr style=\"text-align: right;\">\n",
              "      <th></th>\n",
              "      <th>nr_themes</th>\n",
              "    </tr>\n",
              "    <tr>\n",
              "      <th>year</th>\n",
              "      <th></th>\n",
              "    </tr>\n",
              "  </thead>\n",
              "  <tbody>\n",
              "    <tr>\n",
              "      <th>2017</th>\n",
              "      <td>89</td>\n",
              "    </tr>\n",
              "    <tr>\n",
              "      <th>2018</th>\n",
              "      <td>93</td>\n",
              "    </tr>\n",
              "    <tr>\n",
              "      <th>2019</th>\n",
              "      <td>78</td>\n",
              "    </tr>\n",
              "    <tr>\n",
              "      <th>2020</th>\n",
              "      <td>82</td>\n",
              "    </tr>\n",
              "    <tr>\n",
              "      <th>2021</th>\n",
              "      <td>1</td>\n",
              "    </tr>\n",
              "  </tbody>\n",
              "</table>\n",
              "</div>"
            ],
            "text/plain": [
              "      nr_themes\n",
              "year           \n",
              "2017         89\n",
              "2018         93\n",
              "2019         78\n",
              "2020         82\n",
              "2021          1"
            ]
          },
          "execution_count": 50,
          "metadata": {},
          "output_type": "execute_result"
        }
      ],
      "source": [
        "themes_by_year.tail()"
      ]
    },
    {
      "cell_type": "markdown",
      "metadata": {
        "colab_type": "text",
        "id": "immCqqw1Iqu5"
      },
      "source": [
        "**Challenge**: Plot the number of themes released by year on a line chart. Only include the full calendar years (i.e., exclude 2020 and 2021). "
      ]
    },
    {
      "cell_type": "code",
      "execution_count": 67,
      "metadata": {
        "colab": {},
        "colab_type": "code",
        "id": "r2pamQEkIqu5"
      },
      "outputs": [
        {
          "data": {
            "text/plain": [
              "[<matplotlib.lines.Line2D at 0x1f8da6c1900>]"
            ]
          },
          "execution_count": 67,
          "metadata": {},
          "output_type": "execute_result"
        },
        {
          "data": {
            "image/png": "[encoded data removed]",
            "text/plain": [
              "<Figure size 640x480 with 1 Axes>"
            ]
          },
          "metadata": {},
          "output_type": "display_data"
        }
      ],
      "source": [
        "plt.xlabel('Date', fontsize=14)\n",
        "plt.ylabel('Number of Themes', fontsize=14)\n",
        "plt.ylim(0, 100)\n",
        "plt.plot(themes_by_year[:-2])"
      ]
    },
    {
      "cell_type": "markdown",
      "metadata": {
        "colab_type": "text",
        "id": "uBbt9-lJIqu7"
      },
      "source": [
        "### Line Charts with Two Seperate Axes"
      ]
    },
    {
      "cell_type": "code",
      "execution_count": 85,
      "metadata": {
        "colab": {},
        "colab_type": "code",
        "id": "j7lQ_amFIqu7"
      },
      "outputs": [
        {
          "data": {
            "text/plain": [
              "Text(0, 0.5, 'Number Of Themes')"
            ]
          },
          "execution_count": 85,
          "metadata": {},
          "output_type": "execute_result"
        },
        {
          "data": {
            "image/png": "[encoded data removed]",
            "text/plain": [
              "<Figure size 640x480 with 2 Axes>"
            ]
          },
          "metadata": {},
          "output_type": "display_data"
        }
      ],
      "source": [
        "ax1 = plt.gca() # get current axes\n",
        "ax2 = ax1.twinx()\n",
        "ax1.plot(sets_by_year.name[:-2], color=\"g\")\n",
        "ax2.plot(themes_by_year[:-2], color=\"b\")\n",
        "\n",
        "ax1.set_xlabel(\"Year\")\n",
        "ax1.set_ylabel(\"Number Of Sets\", color=\"green\")\n",
        "ax2.set_ylabel(\"Number Of Themes\", color=\"blue\")"
      ]
    },
    {
      "cell_type": "markdown",
      "metadata": {
        "colab_type": "text",
        "id": "7BHYaUf-Iqu9"
      },
      "source": [
        "**Challenge**: Use the <code>.groupby()</code> and <code>.agg()</code> function together to figure out the average number of parts per set. How many parts did the average LEGO set released in 1954 compared to say, 2017?"
      ]
    },
    {
      "cell_type": "code",
      "execution_count": 98,
      "metadata": {
        "colab": {},
        "colab_type": "code",
        "id": "W7BcH9vuIqu9"
      },
      "outputs": [],
      "source": [
        "# parts_per_set = sets_df.groupby(\"year\").agg({\"num_parts\": \"mean\"})\n",
        "parts_per_set = sets_df.groupby(\"year\").agg({\"num_parts\": pd.Series.mean})"
      ]
    },
    {
      "cell_type": "code",
      "execution_count": 99,
      "metadata": {
        "colab": {},
        "colab_type": "code",
        "id": "fjbb3tZcIqu_"
      },
      "outputs": [
        {
          "data": {
            "text/html": [
              "<div>\n",
              "<style scoped>\n",
              "    .dataframe tbody tr th:only-of-type {\n",
              "        vertical-align: middle;\n",
              "    }\n",
              "\n",
              "    .dataframe tbody tr th {\n",
              "        vertical-align: top;\n",
              "    }\n",
              "\n",
              "    .dataframe thead th {\n",
              "        text-align: right;\n",
              "    }\n",
              "</style>\n",
              "<table border=\"1\" class=\"dataframe\">\n",
              "  <thead>\n",
              "    <tr style=\"text-align: right;\">\n",
              "      <th></th>\n",
              "      <th>num_parts</th>\n",
              "    </tr>\n",
              "    <tr>\n",
              "      <th>year</th>\n",
              "      <th></th>\n",
              "    </tr>\n",
              "  </thead>\n",
              "  <tbody>\n",
              "    <tr>\n",
              "      <th>1949</th>\n",
              "      <td>99.600000</td>\n",
              "    </tr>\n",
              "    <tr>\n",
              "      <th>1950</th>\n",
              "      <td>1.000000</td>\n",
              "    </tr>\n",
              "    <tr>\n",
              "      <th>1953</th>\n",
              "      <td>13.500000</td>\n",
              "    </tr>\n",
              "    <tr>\n",
              "      <th>1954</th>\n",
              "      <td>12.357143</td>\n",
              "    </tr>\n",
              "    <tr>\n",
              "      <th>1955</th>\n",
              "      <td>36.607143</td>\n",
              "    </tr>\n",
              "  </tbody>\n",
              "</table>\n",
              "</div>"
            ],
            "text/plain": [
              "      num_parts\n",
              "year           \n",
              "1949  99.600000\n",
              "1950   1.000000\n",
              "1953  13.500000\n",
              "1954  12.357143\n",
              "1955  36.607143"
            ]
          },
          "execution_count": 99,
          "metadata": {},
          "output_type": "execute_result"
        }
      ],
      "source": [
        "parts_per_set.head()"
      ]
    },
    {
      "cell_type": "code",
      "execution_count": 100,
      "metadata": {},
      "outputs": [
        {
          "data": {
            "text/html": [
              "<div>\n",
              "<style scoped>\n",
              "    .dataframe tbody tr th:only-of-type {\n",
              "        vertical-align: middle;\n",
              "    }\n",
              "\n",
              "    .dataframe tbody tr th {\n",
              "        vertical-align: top;\n",
              "    }\n",
              "\n",
              "    .dataframe thead th {\n",
              "        text-align: right;\n",
              "    }\n",
              "</style>\n",
              "<table border=\"1\" class=\"dataframe\">\n",
              "  <thead>\n",
              "    <tr style=\"text-align: right;\">\n",
              "      <th></th>\n",
              "      <th>num_parts</th>\n",
              "    </tr>\n",
              "    <tr>\n",
              "      <th>year</th>\n",
              "      <th></th>\n",
              "    </tr>\n",
              "  </thead>\n",
              "  <tbody>\n",
              "    <tr>\n",
              "      <th>2017</th>\n",
              "      <td>221.840967</td>\n",
              "    </tr>\n",
              "    <tr>\n",
              "      <th>2018</th>\n",
              "      <td>213.618873</td>\n",
              "    </tr>\n",
              "    <tr>\n",
              "      <th>2019</th>\n",
              "      <td>207.510714</td>\n",
              "    </tr>\n",
              "    <tr>\n",
              "      <th>2020</th>\n",
              "      <td>259.732938</td>\n",
              "    </tr>\n",
              "    <tr>\n",
              "      <th>2021</th>\n",
              "      <td>0.000000</td>\n",
              "    </tr>\n",
              "  </tbody>\n",
              "</table>\n",
              "</div>"
            ],
            "text/plain": [
              "       num_parts\n",
              "year            \n",
              "2017  221.840967\n",
              "2018  213.618873\n",
              "2019  207.510714\n",
              "2020  259.732938\n",
              "2021    0.000000"
            ]
          },
          "execution_count": 100,
          "metadata": {},
          "output_type": "execute_result"
        }
      ],
      "source": [
        "parts_per_set.tail()"
      ]
    },
    {
      "cell_type": "markdown",
      "metadata": {
        "colab_type": "text",
        "id": "bAeTe2XqIqvB"
      },
      "source": [
        "### Scatter Plots in Matplotlib"
      ]
    },
    {
      "cell_type": "markdown",
      "metadata": {
        "colab_type": "text",
        "id": "SAViZ_TYIqvB"
      },
      "source": [
        "**Challenge**: Has the size and complexity of LEGO sets increased over time based on the number of parts? Plot the average number of parts over time using a Matplotlib scatter plot. See if you can use the [scatter plot documentation](https://matplotlib.org/3.1.0/api/_as_gen/matplotlib.pyplot.scatter.html) before I show you the solution. Do you spot a trend in the chart? "
      ]
    },
    {
      "cell_type": "code",
      "execution_count": 105,
      "metadata": {
        "colab": {},
        "colab_type": "code",
        "id": "EQNZ0D7JIqvB"
      },
      "outputs": [
        {
          "data": {
            "text/plain": [
              "<matplotlib.collections.PathCollection at 0x1f8dd2cb700>"
            ]
          },
          "execution_count": 105,
          "metadata": {},
          "output_type": "execute_result"
        },
        {
          "data": {
            "image/png": "[encoded data removed]",
            "text/plain": [
              "<Figure size 640x480 with 1 Axes>"
            ]
          },
          "metadata": {},
          "output_type": "display_data"
        }
      ],
      "source": [
        "plt.scatter(parts_per_set.index[:-2], parts_per_set.num_parts[:-2])"
      ]
    },
    {
      "cell_type": "markdown",
      "metadata": {
        "colab_type": "text",
        "id": "xK226Ip-IqvE"
      },
      "source": [
        "### Number of Sets per LEGO Theme"
      ]
    },
    {
      "cell_type": "markdown",
      "metadata": {
        "colab_type": "text",
        "id": "VKHa1FePIqvE"
      },
      "source": [
        "LEGO has licensed many hit franchises from Harry Potter to Marvel Super Heros to many others. But which theme has the largest number of individual sets? "
      ]
    },
    {
      "cell_type": "code",
      "execution_count": 108,
      "metadata": {
        "colab": {},
        "colab_type": "code",
        "id": "hOBcNrC9IqvE"
      },
      "outputs": [
        {
          "data": {
            "text/plain": [
              "theme_id\n",
              "158    753\n",
              "501    656\n",
              "494    398\n",
              "435    356\n",
              "503    329\n",
              "Name: count, dtype: int64"
            ]
          },
          "execution_count": 108,
          "metadata": {},
          "output_type": "execute_result"
        }
      ],
      "source": [
        "sets_per_theme = sets_df.value_counts(\"theme_id\")\n",
        "sets_per_theme.head()"
      ]
    },
    {
      "cell_type": "markdown",
      "metadata": {
        "colab_type": "text",
        "id": "J-i6JULGIqvG"
      },
      "source": [
        "**Challenge** Use what you know about HTML markup and tags to display the database schema: https://i.imgur.com/Sg4lcjx.png"
      ]
    },
    {
      "cell_type": "markdown",
      "metadata": {},
      "source": [
        "<img src=\"https://i.imgur.com/Sg4lcjx.png\">"
      ]
    },
    {
      "cell_type": "markdown",
      "metadata": {
        "colab_type": "text",
        "id": "J_0iuerKIqvG"
      },
      "source": [
        "### Database Schemas, Foreign Keys and Merging DataFrames\n",
        "\n",
        "The themes.csv file has the actual theme names. The sets .csv has <code>theme_ids</code> which link to the <code>id</code> column in the themes.csv. "
      ]
    },
    {
      "cell_type": "markdown",
      "metadata": {
        "colab_type": "text",
        "id": "cp1tMW6oIqvH"
      },
      "source": [
        "**Challenge**: Explore the themes.csv. How is it structured? Search for the name 'Star Wars'. How many <code>id</code>s correspond to this name in the themes.csv? Now use these <code>id</code>s and find the corresponding the sets in the sets.csv (Hint: you'll need to look for matches in the <code>theme_id</code> column)"
      ]
    },
    {
      "cell_type": "code",
      "execution_count": 109,
      "metadata": {
        "colab": {},
        "colab_type": "code",
        "id": "3uN3wN5sIqvH"
      },
      "outputs": [],
      "source": [
        "themes_df = pd.read_csv('data/themes.csv', header=0)"
      ]
    },
    {
      "cell_type": "code",
      "execution_count": 110,
      "metadata": {
        "colab": {},
        "colab_type": "code",
        "id": "xAO2XlQGIqvJ"
      },
      "outputs": [
        {
          "data": {
            "text/html": [
              "<div>\n",
              "<style scoped>\n",
              "    .dataframe tbody tr th:only-of-type {\n",
              "        vertical-align: middle;\n",
              "    }\n",
              "\n",
              "    .dataframe tbody tr th {\n",
              "        vertical-align: top;\n",
              "    }\n",
              "\n",
              "    .dataframe thead th {\n",
              "        text-align: right;\n",
              "    }\n",
              "</style>\n",
              "<table border=\"1\" class=\"dataframe\">\n",
              "  <thead>\n",
              "    <tr style=\"text-align: right;\">\n",
              "      <th></th>\n",
              "      <th>id</th>\n",
              "      <th>name</th>\n",
              "      <th>parent_id</th>\n",
              "    </tr>\n",
              "  </thead>\n",
              "  <tbody>\n",
              "    <tr>\n",
              "      <th>0</th>\n",
              "      <td>1</td>\n",
              "      <td>Technic</td>\n",
              "      <td>NaN</td>\n",
              "    </tr>\n",
              "    <tr>\n",
              "      <th>1</th>\n",
              "      <td>2</td>\n",
              "      <td>Arctic Technic</td>\n",
              "      <td>1.0</td>\n",
              "    </tr>\n",
              "    <tr>\n",
              "      <th>2</th>\n",
              "      <td>3</td>\n",
              "      <td>Competition</td>\n",
              "      <td>1.0</td>\n",
              "    </tr>\n",
              "    <tr>\n",
              "      <th>3</th>\n",
              "      <td>4</td>\n",
              "      <td>Expert Builder</td>\n",
              "      <td>1.0</td>\n",
              "    </tr>\n",
              "    <tr>\n",
              "      <th>4</th>\n",
              "      <td>5</td>\n",
              "      <td>Model</td>\n",
              "      <td>1.0</td>\n",
              "    </tr>\n",
              "  </tbody>\n",
              "</table>\n",
              "</div>"
            ],
            "text/plain": [
              "   id            name  parent_id\n",
              "0   1         Technic        NaN\n",
              "1   2  Arctic Technic        1.0\n",
              "2   3     Competition        1.0\n",
              "3   4  Expert Builder        1.0\n",
              "4   5           Model        1.0"
            ]
          },
          "execution_count": 110,
          "metadata": {},
          "output_type": "execute_result"
        }
      ],
      "source": [
        "themes_df.head()"
      ]
    },
    {
      "cell_type": "code",
      "execution_count": 111,
      "metadata": {
        "colab": {},
        "colab_type": "code",
        "id": "xYEDlY-_IqvL"
      },
      "outputs": [
        {
          "data": {
            "text/html": [
              "<div>\n",
              "<style scoped>\n",
              "    .dataframe tbody tr th:only-of-type {\n",
              "        vertical-align: middle;\n",
              "    }\n",
              "\n",
              "    .dataframe tbody tr th {\n",
              "        vertical-align: top;\n",
              "    }\n",
              "\n",
              "    .dataframe thead th {\n",
              "        text-align: right;\n",
              "    }\n",
              "</style>\n",
              "<table border=\"1\" class=\"dataframe\">\n",
              "  <thead>\n",
              "    <tr style=\"text-align: right;\">\n",
              "      <th></th>\n",
              "      <th>id</th>\n",
              "      <th>name</th>\n",
              "      <th>parent_id</th>\n",
              "    </tr>\n",
              "  </thead>\n",
              "  <tbody>\n",
              "    <tr>\n",
              "      <th>591</th>\n",
              "      <td>705</td>\n",
              "      <td>Iron Man</td>\n",
              "      <td>696.0</td>\n",
              "    </tr>\n",
              "    <tr>\n",
              "      <th>592</th>\n",
              "      <td>706</td>\n",
              "      <td>Spider-Man</td>\n",
              "      <td>696.0</td>\n",
              "    </tr>\n",
              "    <tr>\n",
              "      <th>593</th>\n",
              "      <td>707</td>\n",
              "      <td>X-Men</td>\n",
              "      <td>696.0</td>\n",
              "    </tr>\n",
              "    <tr>\n",
              "      <th>594</th>\n",
              "      <td>708</td>\n",
              "      <td>The LEGO Batman Movie</td>\n",
              "      <td>697.0</td>\n",
              "    </tr>\n",
              "    <tr>\n",
              "      <th>595</th>\n",
              "      <td>709</td>\n",
              "      <td>LEGO Art</td>\n",
              "      <td>NaN</td>\n",
              "    </tr>\n",
              "  </tbody>\n",
              "</table>\n",
              "</div>"
            ],
            "text/plain": [
              "      id                   name  parent_id\n",
              "591  705               Iron Man      696.0\n",
              "592  706             Spider-Man      696.0\n",
              "593  707                  X-Men      696.0\n",
              "594  708  The LEGO Batman Movie      697.0\n",
              "595  709               LEGO Art        NaN"
            ]
          },
          "execution_count": 111,
          "metadata": {},
          "output_type": "execute_result"
        }
      ],
      "source": [
        "themes_df.tail()"
      ]
    },
    {
      "cell_type": "code",
      "execution_count": 134,
      "metadata": {
        "colab": {},
        "colab_type": "code",
        "id": "qBhckawNIqvN",
        "scrolled": true
      },
      "outputs": [
        {
          "data": {
            "text/html": [
              "<div>\n",
              "<style scoped>\n",
              "    .dataframe tbody tr th:only-of-type {\n",
              "        vertical-align: middle;\n",
              "    }\n",
              "\n",
              "    .dataframe tbody tr th {\n",
              "        vertical-align: top;\n",
              "    }\n",
              "\n",
              "    .dataframe thead th {\n",
              "        text-align: right;\n",
              "    }\n",
              "</style>\n",
              "<table border=\"1\" class=\"dataframe\">\n",
              "  <thead>\n",
              "    <tr style=\"text-align: right;\">\n",
              "      <th></th>\n",
              "      <th>id</th>\n",
              "      <th>name</th>\n",
              "      <th>parent_id</th>\n",
              "    </tr>\n",
              "  </thead>\n",
              "  <tbody>\n",
              "    <tr>\n",
              "      <th>17</th>\n",
              "      <td>18</td>\n",
              "      <td>Star Wars</td>\n",
              "      <td>1.0</td>\n",
              "    </tr>\n",
              "    <tr>\n",
              "      <th>150</th>\n",
              "      <td>158</td>\n",
              "      <td>Star Wars</td>\n",
              "      <td>NaN</td>\n",
              "    </tr>\n",
              "    <tr>\n",
              "      <th>174</th>\n",
              "      <td>209</td>\n",
              "      <td>Star Wars</td>\n",
              "      <td>207.0</td>\n",
              "    </tr>\n",
              "    <tr>\n",
              "      <th>211</th>\n",
              "      <td>261</td>\n",
              "      <td>Star Wars</td>\n",
              "      <td>258.0</td>\n",
              "    </tr>\n",
              "  </tbody>\n",
              "</table>\n",
              "</div>"
            ],
            "text/plain": [
              "      id       name  parent_id\n",
              "17    18  Star Wars        1.0\n",
              "150  158  Star Wars        NaN\n",
              "174  209  Star Wars      207.0\n",
              "211  261  Star Wars      258.0"
            ]
          },
          "execution_count": 134,
          "metadata": {},
          "output_type": "execute_result"
        }
      ],
      "source": [
        "themes_df.loc[themes_df[\"name\"]==\"Star Wars\"]"
      ]
    },
    {
      "cell_type": "code",
      "execution_count": 138,
      "metadata": {
        "colab": {},
        "colab_type": "code",
        "id": "aqt07DSTIqvP",
        "scrolled": true
      },
      "outputs": [
        {
          "data": {
            "text/html": [
              "<div>\n",
              "<style scoped>\n",
              "    .dataframe tbody tr th:only-of-type {\n",
              "        vertical-align: middle;\n",
              "    }\n",
              "\n",
              "    .dataframe tbody tr th {\n",
              "        vertical-align: top;\n",
              "    }\n",
              "\n",
              "    .dataframe thead th {\n",
              "        text-align: right;\n",
              "    }\n",
              "</style>\n",
              "<table border=\"1\" class=\"dataframe\">\n",
              "  <thead>\n",
              "    <tr style=\"text-align: right;\">\n",
              "      <th></th>\n",
              "      <th>set_num</th>\n",
              "      <th>name</th>\n",
              "      <th>year</th>\n",
              "      <th>theme_id</th>\n",
              "      <th>num_parts</th>\n",
              "    </tr>\n",
              "  </thead>\n",
              "  <tbody>\n",
              "    <tr>\n",
              "      <th>11013</th>\n",
              "      <td>75023-1</td>\n",
              "      <td>Star Wars Advent Calendar 2013</td>\n",
              "      <td>2013</td>\n",
              "      <td>209</td>\n",
              "      <td>254</td>\n",
              "    </tr>\n",
              "    <tr>\n",
              "      <th>11046</th>\n",
              "      <td>75056-1</td>\n",
              "      <td>Star Wars Advent Calendar 2014</td>\n",
              "      <td>2014</td>\n",
              "      <td>209</td>\n",
              "      <td>273</td>\n",
              "    </tr>\n",
              "    <tr>\n",
              "      <th>11080</th>\n",
              "      <td>75097-1</td>\n",
              "      <td>Star Wars Advent Calendar 2015</td>\n",
              "      <td>2015</td>\n",
              "      <td>209</td>\n",
              "      <td>291</td>\n",
              "    </tr>\n",
              "    <tr>\n",
              "      <th>11131</th>\n",
              "      <td>75146-1</td>\n",
              "      <td>Star Wars Advent Calendar 2016</td>\n",
              "      <td>2016</td>\n",
              "      <td>209</td>\n",
              "      <td>282</td>\n",
              "    </tr>\n",
              "    <tr>\n",
              "      <th>11173</th>\n",
              "      <td>75184-1</td>\n",
              "      <td>Star Wars Advent Calendar 2017</td>\n",
              "      <td>2017</td>\n",
              "      <td>209</td>\n",
              "      <td>309</td>\n",
              "    </tr>\n",
              "    <tr>\n",
              "      <th>11206</th>\n",
              "      <td>75213-1</td>\n",
              "      <td>Star Wars Advent Calendar 2018</td>\n",
              "      <td>2018</td>\n",
              "      <td>209</td>\n",
              "      <td>307</td>\n",
              "    </tr>\n",
              "    <tr>\n",
              "      <th>11245</th>\n",
              "      <td>75245-1</td>\n",
              "      <td>Star Wars Advent Calendar 2019</td>\n",
              "      <td>2019</td>\n",
              "      <td>209</td>\n",
              "      <td>280</td>\n",
              "    </tr>\n",
              "    <tr>\n",
              "      <th>11281</th>\n",
              "      <td>75279-1</td>\n",
              "      <td>Star Wars Advent Calendar 2020</td>\n",
              "      <td>2020</td>\n",
              "      <td>209</td>\n",
              "      <td>312</td>\n",
              "    </tr>\n",
              "    <tr>\n",
              "      <th>12019</th>\n",
              "      <td>7958-1</td>\n",
              "      <td>Star Wars Advent Calendar 2011</td>\n",
              "      <td>2011</td>\n",
              "      <td>209</td>\n",
              "      <td>267</td>\n",
              "    </tr>\n",
              "    <tr>\n",
              "      <th>14352</th>\n",
              "      <td>9509-1</td>\n",
              "      <td>Star Wars Advent Calendar 2012</td>\n",
              "      <td>2012</td>\n",
              "      <td>209</td>\n",
              "      <td>235</td>\n",
              "    </tr>\n",
              "  </tbody>\n",
              "</table>\n",
              "</div>"
            ],
            "text/plain": [
              "       set_num                            name  year  theme_id  num_parts\n",
              "11013  75023-1  Star Wars Advent Calendar 2013  2013       209        254\n",
              "11046  75056-1  Star Wars Advent Calendar 2014  2014       209        273\n",
              "11080  75097-1  Star Wars Advent Calendar 2015  2015       209        291\n",
              "11131  75146-1  Star Wars Advent Calendar 2016  2016       209        282\n",
              "11173  75184-1  Star Wars Advent Calendar 2017  2017       209        309\n",
              "11206  75213-1  Star Wars Advent Calendar 2018  2018       209        307\n",
              "11245  75245-1  Star Wars Advent Calendar 2019  2019       209        280\n",
              "11281  75279-1  Star Wars Advent Calendar 2020  2020       209        312\n",
              "12019   7958-1  Star Wars Advent Calendar 2011  2011       209        267\n",
              "14352   9509-1  Star Wars Advent Calendar 2012  2012       209        235"
            ]
          },
          "execution_count": 138,
          "metadata": {},
          "output_type": "execute_result"
        }
      ],
      "source": [
        "sets_df[sets_df.theme_id == 209]"
      ]
    },
    {
      "cell_type": "markdown",
      "metadata": {
        "colab_type": "text",
        "id": "SmTCXWKKIqvQ"
      },
      "source": [
        "### Merging (i.e., Combining) DataFrames based on a Key\n"
      ]
    },
    {
      "cell_type": "code",
      "execution_count": 141,
      "metadata": {
        "colab": {},
        "colab_type": "code",
        "id": "esKQULhcIqvR"
      },
      "outputs": [
        {
          "data": {
            "text/plain": [
              "theme_id\n",
              "158    753\n",
              "501    656\n",
              "494    398\n",
              "435    356\n",
              "503    329\n",
              "Name: count, dtype: int64"
            ]
          },
          "execution_count": 141,
          "metadata": {},
          "output_type": "execute_result"
        }
      ],
      "source": [
        "set_theme_count = sets_df[\"theme_id\"].value_counts()\n",
        "set_theme_count[:5]"
      ]
    },
    {
      "cell_type": "code",
      "execution_count": 143,
      "metadata": {
        "colab": {},
        "colab_type": "code",
        "id": "i0LobgIvIqvT"
      },
      "outputs": [
        {
          "data": {
            "text/html": [
              "<div>\n",
              "<style scoped>\n",
              "    .dataframe tbody tr th:only-of-type {\n",
              "        vertical-align: middle;\n",
              "    }\n",
              "\n",
              "    .dataframe tbody tr th {\n",
              "        vertical-align: top;\n",
              "    }\n",
              "\n",
              "    .dataframe thead th {\n",
              "        text-align: right;\n",
              "    }\n",
              "</style>\n",
              "<table border=\"1\" class=\"dataframe\">\n",
              "  <thead>\n",
              "    <tr style=\"text-align: right;\">\n",
              "      <th></th>\n",
              "      <th>id</th>\n",
              "      <th>set_count</th>\n",
              "    </tr>\n",
              "  </thead>\n",
              "  <tbody>\n",
              "    <tr>\n",
              "      <th>0</th>\n",
              "      <td>158</td>\n",
              "      <td>753</td>\n",
              "    </tr>\n",
              "    <tr>\n",
              "      <th>1</th>\n",
              "      <td>501</td>\n",
              "      <td>656</td>\n",
              "    </tr>\n",
              "    <tr>\n",
              "      <th>2</th>\n",
              "      <td>494</td>\n",
              "      <td>398</td>\n",
              "    </tr>\n",
              "    <tr>\n",
              "      <th>3</th>\n",
              "      <td>435</td>\n",
              "      <td>356</td>\n",
              "    </tr>\n",
              "    <tr>\n",
              "      <th>4</th>\n",
              "      <td>503</td>\n",
              "      <td>329</td>\n",
              "    </tr>\n",
              "  </tbody>\n",
              "</table>\n",
              "</div>"
            ],
            "text/plain": [
              "    id  set_count\n",
              "0  158        753\n",
              "1  501        656\n",
              "2  494        398\n",
              "3  435        356\n",
              "4  503        329"
            ]
          },
          "execution_count": 143,
          "metadata": {},
          "output_type": "execute_result"
        }
      ],
      "source": [
        "set_theme_count = pd.DataFrame({\"id\": set_theme_count.index, \"set_count\": set_theme_count.values})\n",
        "set_theme_count.head()"
      ]
    },
    {
      "cell_type": "code",
      "execution_count": 148,
      "metadata": {
        "colab": {},
        "colab_type": "code",
        "id": "I7UMP7VXIqvU"
      },
      "outputs": [
        {
          "data": {
            "text/html": [
              "<div>\n",
              "<style scoped>\n",
              "    .dataframe tbody tr th:only-of-type {\n",
              "        vertical-align: middle;\n",
              "    }\n",
              "\n",
              "    .dataframe tbody tr th {\n",
              "        vertical-align: top;\n",
              "    }\n",
              "\n",
              "    .dataframe thead th {\n",
              "        text-align: right;\n",
              "    }\n",
              "</style>\n",
              "<table border=\"1\" class=\"dataframe\">\n",
              "  <thead>\n",
              "    <tr style=\"text-align: right;\">\n",
              "      <th></th>\n",
              "      <th>id</th>\n",
              "      <th>set_count</th>\n",
              "      <th>name</th>\n",
              "      <th>parent_id</th>\n",
              "    </tr>\n",
              "  </thead>\n",
              "  <tbody>\n",
              "    <tr>\n",
              "      <th>0</th>\n",
              "      <td>158</td>\n",
              "      <td>753</td>\n",
              "      <td>Star Wars</td>\n",
              "      <td>NaN</td>\n",
              "    </tr>\n",
              "    <tr>\n",
              "      <th>1</th>\n",
              "      <td>501</td>\n",
              "      <td>656</td>\n",
              "      <td>Gear</td>\n",
              "      <td>NaN</td>\n",
              "    </tr>\n",
              "    <tr>\n",
              "      <th>2</th>\n",
              "      <td>494</td>\n",
              "      <td>398</td>\n",
              "      <td>Friends</td>\n",
              "      <td>NaN</td>\n",
              "    </tr>\n",
              "    <tr>\n",
              "      <th>3</th>\n",
              "      <td>435</td>\n",
              "      <td>356</td>\n",
              "      <td>Ninjago</td>\n",
              "      <td>NaN</td>\n",
              "    </tr>\n",
              "    <tr>\n",
              "      <th>4</th>\n",
              "      <td>503</td>\n",
              "      <td>329</td>\n",
              "      <td>Key Chain</td>\n",
              "      <td>501.0</td>\n",
              "    </tr>\n",
              "    <tr>\n",
              "      <th>5</th>\n",
              "      <td>505</td>\n",
              "      <td>328</td>\n",
              "      <td>Basic Set</td>\n",
              "      <td>504.0</td>\n",
              "    </tr>\n",
              "    <tr>\n",
              "      <th>6</th>\n",
              "      <td>497</td>\n",
              "      <td>310</td>\n",
              "      <td>Books</td>\n",
              "      <td>NaN</td>\n",
              "    </tr>\n",
              "    <tr>\n",
              "      <th>7</th>\n",
              "      <td>632</td>\n",
              "      <td>299</td>\n",
              "      <td>Town</td>\n",
              "      <td>504.0</td>\n",
              "    </tr>\n",
              "    <tr>\n",
              "      <th>8</th>\n",
              "      <td>371</td>\n",
              "      <td>273</td>\n",
              "      <td>Supplemental</td>\n",
              "      <td>365.0</td>\n",
              "    </tr>\n",
              "    <tr>\n",
              "      <th>9</th>\n",
              "      <td>516</td>\n",
              "      <td>248</td>\n",
              "      <td>Duplo and Explore</td>\n",
              "      <td>507.0</td>\n",
              "    </tr>\n",
              "  </tbody>\n",
              "</table>\n",
              "</div>"
            ],
            "text/plain": [
              "    id  set_count               name  parent_id\n",
              "0  158        753          Star Wars        NaN\n",
              "1  501        656               Gear        NaN\n",
              "2  494        398            Friends        NaN\n",
              "3  435        356            Ninjago        NaN\n",
              "4  503        329          Key Chain      501.0\n",
              "5  505        328          Basic Set      504.0\n",
              "6  497        310              Books        NaN\n",
              "7  632        299               Town      504.0\n",
              "8  371        273       Supplemental      365.0\n",
              "9  516        248  Duplo and Explore      507.0"
            ]
          },
          "execution_count": 148,
          "metadata": {},
          "output_type": "execute_result"
        }
      ],
      "source": [
        "merged_df = pd.merge(set_theme_count, themes_df, on='id')\n",
        "merged_df[:10]"
      ]
    },
    {
      "cell_type": "code",
      "execution_count": 146,
      "metadata": {},
      "outputs": [
        {
          "data": {
            "text/plain": [
              "<BarContainer object of 10 artists>"
            ]
          },
          "execution_count": 146,
          "metadata": {},
          "output_type": "execute_result"
        },
        {
          "data": {
            "image/png": "[encoded data removed]",
            "text/plain": [
              "<Figure size 640x480 with 1 Axes>"
            ]
          },
          "metadata": {},
          "output_type": "display_data"
        }
      ],
      "source": [
        "plt.bar(merged_df.name[:10], merged_df.set_count[:10])"
      ]
    },
    {
      "cell_type": "code",
      "execution_count": 147,
      "metadata": {},
      "outputs": [
        {
          "data": {
            "text/plain": [
              "<BarContainer object of 10 artists>"
            ]
          },
          "execution_count": 147,
          "metadata": {},
          "output_type": "execute_result"
        },
        {
          "data": {
            "image/png": "[encoded data removed]",
            "text/plain": [
              "<Figure size 1400x800 with 1 Axes>"
            ]
          },
          "metadata": {},
          "output_type": "display_data"
        }
      ],
      "source": [
        "plt.figure(figsize=(14,8))\n",
        "plt.xticks(fontsize=14, rotation=45)\n",
        "plt.yticks(fontsize=14)\n",
        "plt.ylabel('Nr of Sets', fontsize=14)\n",
        "plt.xlabel('Theme Name', fontsize=14)\n",
        " \n",
        "plt.bar(merged_df.name[:10], merged_df.set_count[:10])"
      ]
    }
  ],
  "metadata": {
    "colab": {
      "name": "Lego Analysis for Course (start).ipynb",
      "provenance": []
    },
    "kernelspec": {
      "display_name": "Python 3",
      "language": "python",
      "name": "python3"
    },
    "language_info": {
      "codemirror_mode": {
        "name": "ipython",
        "version": 3
      },
      "file_extension": ".py",
      "mimetype": "text/x-python",
      "name": "python",
      "nbconvert_exporter": "python",
      "pygments_lexer": "ipython3",
      "version": "3.10.6"
    }
  },
  "nbformat": 4,
  "nbformat_minor": 0
}
